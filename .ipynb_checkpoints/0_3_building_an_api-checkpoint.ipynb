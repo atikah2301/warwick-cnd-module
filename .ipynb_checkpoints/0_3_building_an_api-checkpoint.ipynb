{
 "cells": [
  {
   "cell_type": "markdown",
   "metadata": {},
   "source": [
    "# Building an API with FastAPI"
   ]
  },
  {
   "cell_type": "markdown",
   "metadata": {},
   "source": [
    "Goal: Build a simple API and serve it on our local machine (localhost). \n",
    "\n",
    "Background: Python packages like `flask` have been popular for building APIS, but `FastAPI`has recently become popular"
   ]
  },
  {
   "cell_type": "markdown",
   "metadata": {},
   "source": [
    "### Install and load the FastAPI package"
   ]
  },
  {
   "cell_type": "code",
   "execution_count": 1,
   "metadata": {
    "scrolled": true
   },
   "outputs": [
    {
     "name": "stdout",
     "output_type": "stream",
     "text": [
      "Collecting fastapi[all]\n",
      "  Downloading fastapi-0.89.0-py3-none-any.whl (55 kB)\n",
      "     ---------------------------------------- 55.6/55.6 kB 1.5 MB/s eta 0:00:00\n",
      "Collecting starlette==0.22.0\n",
      "  Downloading starlette-0.22.0-py3-none-any.whl (64 kB)\n",
      "     ---------------------------------------- 64.3/64.3 kB 3.4 MB/s eta 0:00:00\n",
      "Collecting pydantic!=1.7,!=1.7.1,!=1.7.2,!=1.7.3,!=1.8,!=1.8.1,<2.0.0,>=1.6.2\n",
      "  Downloading pydantic-1.10.4-cp39-cp39-win_amd64.whl (2.1 MB)\n",
      "     ---------------------------------------- 2.1/2.1 MB 4.4 MB/s eta 0:00:00\n",
      "Collecting uvicorn[standard]>=0.12.0\n",
      "  Downloading uvicorn-0.20.0-py3-none-any.whl (56 kB)\n",
      "     ---------------------------------------- 56.9/56.9 kB 3.1 MB/s eta 0:00:00\n",
      "Requirement already satisfied: pyyaml>=5.3.1 in c:\\users\\atika\\appdata\\local\\programs\\python\\python39\\lib\\site-packages (from fastapi[all]) (6.0)\n",
      "Collecting httpx>=0.23.0\n",
      "  Downloading httpx-0.23.3-py3-none-any.whl (71 kB)\n",
      "     -------------------------------------- 71.5/71.5 kB 785.0 kB/s eta 0:00:00\n",
      "Requirement already satisfied: jinja2>=2.11.2 in c:\\users\\atika\\appdata\\local\\programs\\python\\python39\\lib\\site-packages (from fastapi[all]) (3.0.1)\n",
      "Collecting ujson!=4.0.2,!=4.1.0,!=4.2.0,!=4.3.0,!=5.0.0,!=5.1.0,>=4.0.1\n",
      "  Downloading ujson-5.7.0-cp39-cp39-win_amd64.whl (41 kB)\n",
      "     ---------------------------------------- 41.4/41.4 kB 1.9 MB/s eta 0:00:00\n",
      "Collecting orjson>=3.2.1\n",
      "  Downloading orjson-3.8.4-cp39-none-win_amd64.whl (195 kB)\n",
      "     -------------------------------------- 195.4/195.4 kB 6.0 MB/s eta 0:00:00\n",
      "Collecting email-validator>=1.1.1\n",
      "  Downloading email_validator-1.3.0-py2.py3-none-any.whl (22 kB)\n",
      "Collecting python-multipart>=0.0.5\n",
      "  Downloading python-multipart-0.0.5.tar.gz (32 kB)\n",
      "  Preparing metadata (setup.py): started\n",
      "  Preparing metadata (setup.py): finished with status 'done'\n",
      "Collecting itsdangerous>=1.1.0\n",
      "  Downloading itsdangerous-2.1.2-py3-none-any.whl (15 kB)\n",
      "Requirement already satisfied: typing-extensions>=3.10.0 in c:\\users\\atika\\appdata\\local\\programs\\python\\python39\\lib\\site-packages (from starlette==0.22.0->fastapi[all]) (4.3.0)\n",
      "Collecting anyio<5,>=3.4.0\n",
      "  Downloading anyio-3.6.2-py3-none-any.whl (80 kB)\n",
      "     ---------------------------------------- 80.6/80.6 kB 4.4 MB/s eta 0:00:00\n",
      "Requirement already satisfied: idna>=2.0.0 in c:\\users\\atika\\appdata\\local\\programs\\python\\python39\\lib\\site-packages (from email-validator>=1.1.1->fastapi[all]) (3.3)\n",
      "Collecting dnspython>=1.15.0\n",
      "  Downloading dnspython-2.2.1-py3-none-any.whl (269 kB)\n",
      "     -------------------------------------- 269.1/269.1 kB 5.5 MB/s eta 0:00:00\n",
      "Requirement already satisfied: certifi in c:\\users\\atika\\appdata\\local\\programs\\python\\python39\\lib\\site-packages (from httpx>=0.23.0->fastapi[all]) (2022.6.15)\n",
      "Collecting httpcore<0.17.0,>=0.15.0\n",
      "  Downloading httpcore-0.16.3-py3-none-any.whl (69 kB)\n",
      "     ---------------------------------------- 69.6/69.6 kB 3.7 MB/s eta 0:00:00\n",
      "Collecting rfc3986[idna2008]<2,>=1.3\n",
      "  Downloading rfc3986-1.5.0-py2.py3-none-any.whl (31 kB)\n",
      "Collecting sniffio\n",
      "  Downloading sniffio-1.3.0-py3-none-any.whl (10 kB)\n",
      "Requirement already satisfied: MarkupSafe>=2.0 in c:\\users\\atika\\appdata\\local\\programs\\python\\python39\\lib\\site-packages (from jinja2>=2.11.2->fastapi[all]) (2.1.1)\n",
      "Requirement already satisfied: six>=1.4.0 in c:\\users\\atika\\appdata\\local\\programs\\python\\python39\\lib\\site-packages (from python-multipart>=0.0.5->fastapi[all]) (1.16.0)\n",
      "Collecting h11>=0.8\n",
      "  Downloading h11-0.14.0-py3-none-any.whl (58 kB)\n",
      "     ---------------------------------------- 58.3/58.3 kB 3.0 MB/s eta 0:00:00\n",
      "Requirement already satisfied: click>=7.0 in c:\\users\\atika\\appdata\\local\\programs\\python\\python39\\lib\\site-packages (from uvicorn[standard]>=0.12.0->fastapi[all]) (8.0.1)\n",
      "Collecting websockets>=10.4\n",
      "  Downloading websockets-10.4-cp39-cp39-win_amd64.whl (101 kB)\n",
      "     -------------------------------------- 101.4/101.4 kB 2.8 MB/s eta 0:00:00\n",
      "Requirement already satisfied: colorama>=0.4 in c:\\users\\atika\\appdata\\local\\programs\\python\\python39\\lib\\site-packages (from uvicorn[standard]>=0.12.0->fastapi[all]) (0.4.4)\n",
      "Collecting httptools>=0.5.0\n",
      "  Downloading httptools-0.5.0-cp39-cp39-win_amd64.whl (145 kB)\n",
      "     -------------------------------------- 145.1/145.1 kB 4.2 MB/s eta 0:00:00\n",
      "Collecting watchfiles>=0.13\n",
      "  Downloading watchfiles-0.18.1-cp37-abi3-win_amd64.whl (264 kB)\n",
      "     -------------------------------------- 264.0/264.0 kB 3.3 MB/s eta 0:00:00\n",
      "Collecting python-dotenv>=0.13\n",
      "  Downloading python_dotenv-0.21.0-py3-none-any.whl (18 kB)\n",
      "Building wheels for collected packages: python-multipart\n",
      "  Building wheel for python-multipart (setup.py): started\n",
      "  Building wheel for python-multipart (setup.py): finished with status 'done'\n",
      "  Created wheel for python-multipart: filename=python_multipart-0.0.5-py3-none-any.whl size=31671 sha256=4780901026bb4f999952c38f9e8aa7f26ad3193c52752009522fcb2fa2fab022\n",
      "  Stored in directory: c:\\users\\atika\\appdata\\local\\pip\\cache\\wheels\\0e\\cf\\f7\\60996297fcab092be8eda6268bb6662dd6320f2fb685b9f872\n",
      "Successfully built python-multipart\n",
      "Installing collected packages: rfc3986, websockets, ujson, sniffio, python-multipart, python-dotenv, pydantic, orjson, itsdangerous, httptools, h11, dnspython, uvicorn, email-validator, anyio, watchfiles, starlette, httpcore, httpx, fastapi\n",
      "Successfully installed anyio-3.6.2 dnspython-2.2.1 email-validator-1.3.0 fastapi-0.89.0 h11-0.14.0 httpcore-0.16.3 httptools-0.5.0 httpx-0.23.3 itsdangerous-2.1.2 orjson-3.8.4 pydantic-1.10.4 python-dotenv-0.21.0 python-multipart-0.0.5 rfc3986-1.5.0 sniffio-1.3.0 starlette-0.22.0 ujson-5.7.0 uvicorn-0.20.0 watchfiles-0.18.1 websockets-10.4\n"
     ]
    }
   ],
   "source": [
    "!pip install \"fastapi[all]\""
   ]
  },
  {
   "cell_type": "code",
   "execution_count": 2,
   "metadata": {},
   "outputs": [],
   "source": [
    "from fastapi import FastAPI"
   ]
  },
  {
   "cell_type": "markdown",
   "metadata": {},
   "source": [
    "### Create data"
   ]
  },
  {
   "cell_type": "code",
   "execution_count": 3,
   "metadata": {},
   "outputs": [],
   "source": [
    "datastore = {1001: {\"name\": \"Jordan Bruno\", \"teacher_rank\": 7},\n",
    "            1002: {\"name\": \"Liping Zheng\", \"teacher_rank\": 2}, \n",
    "            1003: {\"name\": \"Michael Mortenson\", \"teacher_rank\": 5}\n",
    "            }\n",
    "\n"
   ]
  },
  {
   "cell_type": "markdown",
   "metadata": {},
   "source": [
    "- `datastore` is a dictionary with IDs as keys and inner dictionaries as values\n",
    "- Each inner dictionary has name and teacher rank keys, with string and int values\n",
    "- `teacher_rank` is the overall ranking of a teacher in WMG as of 02/12/21\n",
    "- In practice, a proper datastore would be used"
   ]
  },
  {
   "cell_type": "markdown",
   "metadata": {},
   "source": [
    "### Create basic API functionality"
   ]
  },
  {
   "cell_type": "markdown",
   "metadata": {},
   "source": [
    "- First create a new instance of a FastAPI to act as the template for our API"
   ]
  },
  {
   "cell_type": "code",
   "execution_count": 5,
   "metadata": {},
   "outputs": [],
   "source": [
    "app = FastAPI()"
   ]
  },
  {
   "cell_type": "markdown",
   "metadata": {},
   "source": [
    "- Next we add functionality to it using the `@app` decorator\n",
    "- The `.get()` command specifies that the following function applies to all `GET` requests to the declared endpoint, a URL\n",
    "- The parameter `\"/all\"` is from the path element of our endpoint (i.e. the portion of the URL succeeding the domain). We are specifying the following function to trigger anytime a user hits this endpoint"
   ]
  },
  {
   "cell_type": "code",
   "execution_count": 6,
   "metadata": {},
   "outputs": [],
   "source": [
    "@app.get(\"/all\")\n",
    "async def get_all():\n",
    "    return datastore"
   ]
  },
  {
   "cell_type": "markdown",
   "metadata": {},
   "source": [
    "- Declare the function name\n",
    "\n",
    "Note it is an asynchronus function with `async`. This is not really necessary for this particular task, but is usually good practice. It tells the computer it can work on other tasks while waiting for this to execute. See more [here](URL \"https://fastapi.tiangolo.com/async/#in-a-hurry\"). \n",
    "\n",
    "- Declare return statement\n",
    "\n",
    "A \"get all\" function should just return the entire datastore as expected"
   ]
  },
  {
   "cell_type": "markdown",
   "metadata": {},
   "source": [
    "- Create a function for getting data object (or \"row\" of data) by ID"
   ]
  },
  {
   "cell_type": "code",
   "execution_count": 7,
   "metadata": {},
   "outputs": [],
   "source": [
    "@app.get(\"/ids/{id}\")\n",
    "async def get_by_id(id: int):\n",
    "    try:\n",
    "        return datastore[id]\n",
    "    except:\n",
    "        return \"No records found\" "
   ]
  },
  {
   "cell_type": "markdown",
   "metadata": {},
   "source": [
    "- Use the `id` variable as both a parameter to the function and in the decorator can be used to refer to endpoints based on what was passed to the function \n",
    "- Use `try`-`except` in case the given ID does not exist\n",
    "\n",
    "The result is that an API request like this `https://api.bdtv.com/ids/1003` returns this `name: Michael Mortenson<br>teacher_rank: 5`"
   ]
  },
  {
   "cell_type": "markdown",
   "metadata": {},
   "source": [
    "We can build on this concept by creating slightly more complicated functions to subset the dictionary. Such as:"
   ]
  },
  {
   "cell_type": "code",
   "execution_count": 5,
   "metadata": {},
   "outputs": [],
   "source": [
    "@app.get(\"/names/{name}\")\n",
    "async def get_by_name(name):\n",
    "    output = \"No records found\" # default if function fails\n",
    "    for teacher_id in datastore:\n",
    "        if datastore[teacher_id]['name'] == name:\n",
    "            output = datastore[teacher_id]\n",
    "            # break\n",
    "    return output"
   ]
  },
  {
   "cell_type": "markdown",
   "metadata": {},
   "source": [
    "Here we loop through the `datastore` and get the object for the specified name. If the name is non-unique, then using `break` get us the first object found. Removing `break` gets us the last object found. "
   ]
  },
  {
   "cell_type": "markdown",
   "metadata": {},
   "source": [
    "We want this code to be run as a standalone Python file, outside of Jupyter. First let us collate all our code. Then, save it to a new python file called `staffapp.py` by copying and pasting."
   ]
  },
  {
   "cell_type": "code",
   "execution_count": 6,
   "metadata": {},
   "outputs": [],
   "source": [
    "from fastapi import FastAPI\n",
    "\n",
    "\n",
    "datastore = {\n",
    "    1001: {\"name\": \"Jordan Bruno\", \"teacher_rank\": 7},\n",
    "    1002: {\"name\": \"Liping Zheng\", \"teacher_rank\": 2}, \n",
    "    1003: {\"name\": \"Michael Mortenson\", \"teacher_rank\": 5}\n",
    "            }\n",
    "\n",
    "app = FastAPI()\n",
    "\n",
    "@app.get(\"/all\")\n",
    "async def get_all():\n",
    "    return datastore\n",
    "\n",
    "\n",
    "@app.get(\"/ids/{id}\")\n",
    "async def get_by_id(id: int):\n",
    "    try:\n",
    "        return datastore[id]\n",
    "    except:\n",
    "        return \"No records found\"\n",
    "\n",
    "    \n",
    "@app.get(\"/names/{name}\")\n",
    "async def get_by_name(name):\n",
    "    output = \"No records found\" \n",
    "    for sid in datastore:\n",
    "        if datastore[sid]['name'] == name:\n",
    "            output = datastore[sid]\n",
    "    return output"
   ]
  },
  {
   "cell_type": "markdown",
   "metadata": {},
   "source": [
    "### Running the API"
   ]
  },
  {
   "cell_type": "markdown",
   "metadata": {},
   "source": [
    "We now will run our app as a remote API we can make calls to, using `uvicorn`, a basic webserver for `FastAPI` that we installed under `FastAPI` package. This is not something we can inside of Notebooks. \n",
    "\n",
    "- Switch to `Command Prompt` in Windows.\n",
    "- Navigate to the folder we created earlier using `cd` (and `dir` in Windows, the equivalent to `ls`)\n",
    "- Run `python -m uvicorn staffapp:app --reload`\n",
    "\n",
    "If the code has worked you should see something like the following:"
   ]
  },
  {
   "cell_type": "raw",
   "metadata": {},
   "source": [
    "C:\\Users\\atika\\Documents\\GitHub\\warwick-cnd-module>python -m uvicorn staffapp:app --reload\n",
    "←[32mINFO←[0m:     Will watch for changes in these directories: ['C:\\\\Users\\\\atika\\\\Documents\\\\GitHub\\\\warwick-cnd-module']\n",
    "←[32mINFO←[0m:     Uvicorn running on ←[1mhttp://127.0.0.1:8000←[0m (Press CTRL+C to quit)\n",
    "←[32mINFO←[0m:     Started reloader process [←[36m←[1m9768←[0m] using ←[36m←[1mWatchFiles←[0m\n",
    "←[32mINFO←[0m:     Started server process [←[36m18416←[0m]\n",
    "←[32mINFO←[0m:     Waiting for application startup.\n",
    "←[32mINFO←[0m:     Application startup complete."
   ]
  },
  {
   "cell_type": "markdown",
   "metadata": {},
   "source": [
    "### Resolving errors "
   ]
  },
  {
   "cell_type": "markdown",
   "metadata": {},
   "source": [
    "If you have errors you may need to specify the version of Python to use to be the same as the notebook. You can find that using the _sys_ module:"
   ]
  },
  {
   "cell_type": "code",
   "execution_count": 8,
   "metadata": {},
   "outputs": [
    {
     "data": {
      "text/plain": [
       "'c:\\\\users\\\\atika\\\\appdata\\\\local\\\\programs\\\\python\\\\python39\\\\python.exe'"
      ]
     },
     "execution_count": 8,
     "metadata": {},
     "output_type": "execute_result"
    }
   ],
   "source": [
    "import sys\n",
    "sys.executable"
   ]
  },
  {
   "cell_type": "markdown",
   "metadata": {},
   "source": [
    "This can be copied into the above code - so in my case it would be:"
   ]
  },
  {
   "cell_type": "code",
   "execution_count": null,
   "metadata": {},
   "outputs": [],
   "source": [
    "C:/Users/u4033/anaconda3/python.exe -m uvicorn staffapp:app --reload"
   ]
  },
  {
   "cell_type": "markdown",
   "metadata": {},
   "source": [
    "Any other problems report to us and we will try to resolve them!"
   ]
  },
  {
   "cell_type": "markdown",
   "metadata": {},
   "source": [
    "### Using the API"
   ]
  },
  {
   "attachments": {
    "image.png": {
     "image/png": "[encoded data removed]"
    }
   },
   "cell_type": "markdown",
   "metadata": {},
   "source": [
    "Having started the application we can navigate to it via our browser (the app is running on _localhost_ - i.e. running on our machine).\n",
    "\n",
    "Type `localhost:8000/all` into a web browser and you should see something like this:\n",
    "\n",
    "![image.png](attachment:image.png)"
   ]
  },
  {
   "attachments": {
    "image.png": {
     "image/png": "[encoded data removed]"
    }
   },
   "cell_type": "markdown",
   "metadata": {},
   "source": [
    "`localhost:8000/ids/1002`\n",
    "\n",
    "![image.png](attachment:image.png)"
   ]
  },
  {
   "attachments": {
    "image.png": {
     "image/png": "[encoded data removed]"
    }
   },
   "cell_type": "markdown",
   "metadata": {},
   "source": [
    "`localhost:8000/names/Michael%20Mortenson` (note the use of `%20` to represent the whitespaces)\n",
    "\n",
    "![image.png](attachment:image.png)"
   ]
  },
  {
   "cell_type": "markdown",
   "metadata": {},
   "source": [
    "We have built a working API! Well done :)"
   ]
  }
 ],
 "metadata": {
  "kernelspec": {
   "display_name": "Python 3 (ipykernel)",
   "language": "python",
   "name": "python3"
  },
  "language_info": {
   "codemirror_mode": {
    "name": "ipython",
    "version": 3
   },
   "file_extension": ".py",
   "mimetype": "text/x-python",
   "name": "python",
   "nbconvert_exporter": "python",
   "pygments_lexer": "ipython3",
   "version": "3.9.6"
  }
 },
 "nbformat": 4,
 "nbformat_minor": 2
}
